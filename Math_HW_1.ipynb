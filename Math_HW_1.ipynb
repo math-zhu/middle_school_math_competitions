{
 "cells": [
  {
   "cell_type": "markdown",
   "id": "21e3b845",
   "metadata": {},
   "source": [
    "### Math homework #1"
   ]
  },
  {
   "cell_type": "markdown",
   "id": "7704d883",
   "metadata": {},
   "source": [
    "**Homework #1**:\n",
    "\n",
    "“Make me a python code to realize the sieve of Eratosthenes”\n"
   ]
  },
  {
   "cell_type": "code",
   "execution_count": 3,
   "id": "c08e2ffb",
   "metadata": {},
   "outputs": [
    {
     "name": "stdout",
     "output_type": "stream",
     "text": [
      "primes up to: \n",
      "300\n",
      "Primes up to 300: [2, 3, 5, 7, 11, 13, 17, 19, 23, 29, 31, 37, 41, 43, 47, 53, 59, 61, 67, 71, 73, 79, 83, 89, 97, 101, 103, 107, 109, 113, 127, 131, 137, 139, 149, 151, 157, 163, 167, 173, 179, 181, 191, 193, 197, 199, 211, 223, 227, 229, 233, 239, 241, 251, 257, 263, 269, 271, 277, 281, 283, 293]\n"
     ]
    }
   ],
   "source": [
    "def sieve_of_eratosthenes(limit):\n",
    "    \"\"\"\n",
    "    Find all prime numbers up to a given limit using the Sieve of Eratosthenes algorithm.\n",
    "\n",
    "    Parameters:\n",
    "        limit (int): The upper limit to find primes up to.\n",
    "\n",
    "    Returns:\n",
    "        list: A list of prime numbers up to 'limit'.\n",
    "    \"\"\"\n",
    "    if limit < 2:\n",
    "        return []\n",
    "\n",
    "    # Create a list to track the primality of numbers\n",
    "    is_prime = [True] * (limit + 1)\n",
    "    is_prime[0] = is_prime[1] = False  # 0 and 1 are not primes\n",
    "\n",
    "    # Mark non-prime numbers\n",
    "    for num in range(2, int(limit ** 0.5) + 1):\n",
    "        if is_prime[num]:\n",
    "            for multiple in range(num * num, limit + 1, num):\n",
    "                is_prime[multiple] = False\n",
    "\n",
    "    # Collect all prime numbers\n",
    "    return [i for i, prime in enumerate(is_prime) if prime]\n",
    "\n",
    "# Example usage\n",
    "if __name__ == \"__main__\":\n",
    "    print(\"primes up to: \")\n",
    "    n = int(input())  # Upper limit\n",
    "    print(f\"Primes up to {n}: {sieve_of_eratosthenes(n)}\")\n",
    "\n"
   ]
  },
  {
   "cell_type": "code",
   "execution_count": 11,
   "id": "9c911240",
   "metadata": {},
   "outputs": [
    {
     "name": "stdout",
     "output_type": "stream",
     "text": [
      "Enter the number of primes (n): 6\n",
      "The computed value is: 30031\n",
      "Is it prime? No\n"
     ]
    }
   ],
   "source": [
    "from math import prod\n",
    "\n",
    "def is_prime(num):\n",
    "    if num <= 1:\n",
    "        return False\n",
    "    for i in range(2, int(num**0.5) + 1):\n",
    "        if num % i == 0:\n",
    "            return False\n",
    "    return True\n",
    "\n",
    "def generate_primes(n):\n",
    "    primes = []\n",
    "    candidate = 2\n",
    "    while len(primes) < n:\n",
    "        if is_prime(candidate):\n",
    "            primes.append(candidate)\n",
    "        candidate += 1\n",
    "    return primes\n",
    "\n",
    "def product_of_primes_plus_one_is_prime(n):\n",
    "    primes = generate_primes(n)\n",
    "    product_plus_one = prod(primes) + 1\n",
    "    return is_prime(product_plus_one), product_plus_one\n",
    "\n",
    "# Example usage\n",
    "if __name__ == \"__main__\":\n",
    "    n = int(input(\"Enter the number of primes (n): \"))\n",
    "    result, value = product_of_primes_plus_one_is_prime(n)\n",
    "    print(f\"The computed value is: {value}\")\n",
    "    print(f\"Is it prime? {'Yes' if result else 'No'}\")\n"
   ]
  },
  {
   "cell_type": "code",
   "execution_count": 28,
   "id": "639d3f1f",
   "metadata": {},
   "outputs": [
    {
     "name": "stdout",
     "output_type": "stream",
     "text": [
      "Enter the number of primes (n): 15\n",
      "1\n",
      "The computed value is: 3\n",
      "Is it prime? Yes\n",
      "2\n",
      "The computed value is: 7\n",
      "Is it prime? Yes\n",
      "3\n",
      "The computed value is: 31\n",
      "Is it prime? Yes\n",
      "4\n",
      "The computed value is: 211\n",
      "Is it prime? Yes\n",
      "5\n",
      "The computed value is: 2311\n",
      "Is it prime? Yes\n",
      "6\n",
      "The computed value is: 30031\n",
      "Is it prime? No\n",
      "Prime factorization of 30031: {59: 1, 509: 1}\n",
      "7\n",
      "The computed value is: 510511\n",
      "Is it prime? No\n",
      "Prime factorization of 510511: {19: 1, 97: 1, 277: 1}\n",
      "8\n",
      "The computed value is: 9699691\n",
      "Is it prime? No\n",
      "Prime factorization of 9699691: {347: 1, 27953: 1}\n",
      "9\n",
      "The computed value is: 223092871\n",
      "Is it prime? No\n",
      "Prime factorization of 223092871: {317: 1, 703763: 1}\n",
      "10\n",
      "The computed value is: 6469693231\n",
      "Is it prime? No\n",
      "Prime factorization of 6469693231: {331: 1, 571: 1, 34231: 1}\n",
      "11\n",
      "The computed value is: 200560490131\n",
      "Is it prime? Yes\n",
      "12\n",
      "The computed value is: 7420738134811\n",
      "Is it prime? No\n",
      "Prime factorization of 7420738134811: {181: 1, 60611: 1, 676421: 1}\n",
      "13\n",
      "The computed value is: 304250263527211\n",
      "Is it prime? No\n",
      "Prime factorization of 304250263527211: {61: 1, 450451: 1, 11072701: 1}\n",
      "14\n",
      "The computed value is: 13082761331670031\n",
      "Is it prime? No\n",
      "Prime factorization of 13082761331670031: {167: 1, 78339888213593: 1}\n"
     ]
    }
   ],
   "source": [
    "from math import prod, isqrt\n",
    "\n",
    "def is_prime(num):\n",
    "    \"\"\"\n",
    "    Check if a number is a prime.\n",
    "    \"\"\"\n",
    "    if num <= 1:\n",
    "        return False\n",
    "    for i in range(2, isqrt(num) + 1):\n",
    "        if num % i == 0:\n",
    "            return False\n",
    "    return True\n",
    "\n",
    "def generate_primes(n):\n",
    "    \"\"\"\n",
    "    Generate the first n prime numbers.\n",
    "    \"\"\"\n",
    "    primes = []\n",
    "    candidate = 2\n",
    "    while len(primes) < n:\n",
    "        if is_prime(candidate):\n",
    "            primes.append(candidate)\n",
    "        candidate += 1\n",
    "    return primes\n",
    "\n",
    "def product_of_primes_plus_one_is_prime(n):\n",
    "    \"\"\"\n",
    "    Verifies if the product of the first n primes plus one is a prime number.\n",
    "\n",
    "    Parameters:\n",
    "        n (int): Number of primes to consider.\n",
    "\n",
    "    Returns:\n",
    "        bool: True if the result is prime, False otherwise.\n",
    "        int: The computed value (product of primes + 1).\n",
    "    \"\"\"\n",
    "    if n <= 0:\n",
    "        raise ValueError(\"n must be a positive integer.\")\n",
    "\n",
    "    # Generate the first n prime numbers\n",
    "    primes = generate_primes(n)\n",
    "\n",
    "    # Calculate product of primes and add one\n",
    "    product_plus_one = prod(primes) + 1\n",
    "\n",
    "    # Check if the result is a prime number\n",
    "    is_prime_result = is_prime(product_plus_one)\n",
    "\n",
    "    return is_prime_result, product_plus_one\n",
    "\n",
    "def prime_factorization(num):\n",
    "    \"\"\"\n",
    "    Perform prime factorization of a number.\n",
    "\n",
    "    Parameters:\n",
    "        num (int): The number to factorize.\n",
    "\n",
    "    Returns:\n",
    "        dict: A dictionary with prime factors as keys and their exponents as values.\n",
    "    \"\"\"\n",
    "    if num <= 1:\n",
    "        return {}\n",
    "\n",
    "    factors = {}\n",
    "    divisor = 2\n",
    "\n",
    "    while num > 1:\n",
    "        while num % divisor == 0:\n",
    "            if divisor in factors:\n",
    "                factors[divisor] += 1\n",
    "            else:\n",
    "                factors[divisor] = 1\n",
    "            num //= divisor\n",
    "        divisor += 1\n",
    "        if divisor * divisor > num:\n",
    "            if num > 1:\n",
    "                factors[num] = 1\n",
    "                break\n",
    "\n",
    "    return factors\n",
    "\n",
    "# Example usage\n",
    "if __name__ == \"__main__\":\n",
    "    n = int(input(\"Enter the number of primes (n): \"))\n",
    "    for i in range(n)[1:]:\n",
    "        print(i)\n",
    "        \n",
    "        try:\n",
    "            result, value = product_of_primes_plus_one_is_prime(i)\n",
    "            print(f\"The computed value is: {value}\")\n",
    "            print(f\"Is it prime? {'Yes' if result else 'No'}\")\n",
    "            if not result:\n",
    "                print(f\"Prime factorization of {value}: {prime_factorization(value)}\")\n",
    "        except ValueError as e:\n",
    "            print(e)\n"
   ]
  },
  {
   "cell_type": "code",
   "execution_count": 15,
   "id": "ede2954c",
   "metadata": {},
   "outputs": [
    {
     "data": {
      "text/plain": [
       "30031"
      ]
     },
     "execution_count": 15,
     "metadata": {},
     "output_type": "execute_result"
    }
   ],
   "source": [
    "59*509"
   ]
  },
  {
   "cell_type": "code",
   "execution_count": 35,
   "id": "4c3c3df0",
   "metadata": {},
   "outputs": [
    {
     "name": "stdout",
     "output_type": "stream",
     "text": [
      "Enter an even number limit to verify Goldbach's conjecture: 100\n",
      "4 = 2 + 2\n",
      "6 = 3 + 3\n",
      "8 = 3 + 5\n",
      "10 = 3 + 7\n",
      "12 = 5 + 7\n",
      "14 = 3 + 11\n",
      "16 = 3 + 13\n",
      "18 = 5 + 13\n",
      "20 = 3 + 17\n",
      "22 = 3 + 19\n",
      "24 = 5 + 19\n",
      "26 = 3 + 23\n",
      "28 = 5 + 23\n",
      "30 = 7 + 23\n",
      "32 = 3 + 29\n",
      "34 = 3 + 31\n",
      "36 = 5 + 31\n",
      "38 = 7 + 31\n",
      "40 = 3 + 37\n",
      "42 = 5 + 37\n",
      "44 = 3 + 41\n",
      "46 = 3 + 43\n",
      "48 = 5 + 43\n",
      "50 = 3 + 47\n",
      "52 = 5 + 47\n",
      "54 = 7 + 47\n",
      "56 = 3 + 53\n",
      "58 = 5 + 53\n",
      "60 = 7 + 53\n",
      "62 = 3 + 59\n",
      "64 = 3 + 61\n",
      "66 = 5 + 61\n",
      "68 = 7 + 61\n",
      "70 = 3 + 67\n",
      "72 = 5 + 67\n",
      "74 = 3 + 71\n",
      "76 = 3 + 73\n",
      "78 = 5 + 73\n",
      "80 = 7 + 73\n",
      "82 = 3 + 79\n",
      "84 = 5 + 79\n",
      "86 = 3 + 83\n",
      "88 = 5 + 83\n",
      "90 = 7 + 83\n",
      "92 = 3 + 89\n",
      "94 = 5 + 89\n",
      "96 = 7 + 89\n",
      "98 = 19 + 79\n",
      "100 = 3 + 97\n",
      "Goldbach's conjecture holds for all even numbers up to 100.\n"
     ]
    }
   ],
   "source": [
    "def is_prime(num):\n",
    "    \"\"\"\n",
    "    Check if a number is a prime.\n",
    "    \"\"\"\n",
    "    if num <= 1:\n",
    "        return False\n",
    "    for i in range(2, int(num**0.5) + 1):\n",
    "        if num % i == 0:\n",
    "            return False\n",
    "    return True\n",
    "\n",
    "def verify_goldbach_conjecture(limit):\n",
    "    \"\"\"\n",
    "    Verify Goldbach's conjecture for all even numbers up to a given limit.\n",
    "\n",
    "    Parameters:\n",
    "        limit (int): The upper limit for the even numbers to verify.\n",
    "\n",
    "    Returns:\n",
    "        bool: True if the conjecture holds for all even numbers up to the limit, False otherwise.\n",
    "    \"\"\"\n",
    "    if limit < 4 or limit % 2 != 0:\n",
    "        raise ValueError(\"Limit must be an even number greater than or equal to 4.\")\n",
    "\n",
    "    for even in range(4, limit + 1, 2):\n",
    "        found = False\n",
    "        for p in range(2, even):\n",
    "            if is_prime(p) and is_prime(even - p):\n",
    "                print(f\"{even} = {p} + {even - p}\")\n",
    "                found = True\n",
    "                break\n",
    "        if not found:\n",
    "            return False, even\n",
    "    return True, None\n",
    "\n",
    "# Example usage\n",
    "if __name__ == \"__main__\":\n",
    "    try:\n",
    "        limit = int(input(\"Enter an even number limit to verify Goldbach's conjecture: \"))\n",
    "        conjecture_result, failing_even = verify_goldbach_conjecture(limit)\n",
    "        if conjecture_result:\n",
    "            print(f\"Goldbach's conjecture holds for all even numbers up to {limit}.\")\n",
    "        else:\n",
    "            print(f\"Goldbach's conjecture fails for the even number {failing_even}.\")\n",
    "    except ValueError as e:\n",
    "        print(e)\n",
    "\n",
    "    "
   ]
  },
  {
   "cell_type": "code",
   "execution_count": 44,
   "id": "c9bdca36",
   "metadata": {},
   "outputs": [
    {
     "name": "stdout",
     "output_type": "stream",
     "text": [
      "Enter an even number to verify Goldbach's conjecture: 123123123121232\n",
      "Goldbach's conjecture holds for 123123123121232: 123123123121232 = 61 + 123123123121171.\n"
     ]
    }
   ],
   "source": [
    "def is_prime(num):\n",
    "    \"\"\"\n",
    "    Check if a number is a prime.\n",
    "    \"\"\"\n",
    "    if num <= 1:\n",
    "        return False\n",
    "    for i in range(2, int(num**0.5) + 1):\n",
    "        if num % i == 0:\n",
    "            return False\n",
    "    return True\n",
    "\n",
    "def verify_goldbach_for_number(even):\n",
    "    \"\"\"\n",
    "    Verify Goldbach's conjecture for a specific even number.\n",
    "\n",
    "    Parameters:\n",
    "        even (int): The even number to verify.\n",
    "\n",
    "    Returns:\n",
    "        tuple: A tuple containing a boolean indicating if the conjecture holds and the pair of primes if it does.\n",
    "    \"\"\"\n",
    "    if even < 4 or even % 2 != 0:\n",
    "        raise ValueError(\"Number must be an even number greater than or equal to 4.\")\n",
    "\n",
    "    for p in range(2, even):\n",
    "        if is_prime(p) and is_prime(even - p):\n",
    "            return True, (p, even - p)\n",
    "\n",
    "    return False, None\n",
    "\n",
    "# Example usage\n",
    "if __name__ == \"__main__\":\n",
    "    try:\n",
    "        even = int(input(\"Enter an even number to verify Goldbach's conjecture: \"))\n",
    "        result, primes = verify_goldbach_for_number(even)\n",
    "        if result:\n",
    "            print(f\"Goldbach's conjecture holds for {even}: {even} = {primes[0]} + {primes[1]}.\")\n",
    "        else:\n",
    "            print(f\"Goldbach's conjecture fails for {even}.\")\n",
    "    except ValueError as e:\n",
    "        print(e)\n"
   ]
  },
  {
   "cell_type": "code",
   "execution_count": null,
   "id": "1fb84514",
   "metadata": {},
   "outputs": [],
   "source": []
  },
  {
   "cell_type": "markdown",
   "id": "6286a606",
   "metadata": {},
   "source": [
    "## Homework Solution on selected problems"
   ]
  },
  {
   "cell_type": "markdown",
   "id": "333c198c",
   "metadata": {},
   "source": [
    "**4.500**: since the number is divisible by $2$ and only consists $2$ and $3$, the last digit must be $2$. And it is divisible by $3$ and contains at least one $3$, there has to be one $3$ and three $2$'s at least. After reordering, the smallest number is $2232$. "
   ]
  },
  {
   "cell_type": "markdown",
   "id": "d809fa3e",
   "metadata": {},
   "source": [
    "**4.110**: $89?43$ is divisible by 11; so I knew that $88000$ is divisble by 11, so $89?43$ - $88000$ = $1?43$. Then using the formula in the book: $a,  a+b,  b+c,  c$ and I found that $a$ = 1, and $c$ = 3, from that I easily found that $b$ = 1, and for the hundred digit it would be $1+1$, or $2$"
   ]
  },
  {
   "cell_type": "markdown",
   "id": "c7f0f504",
   "metadata": {},
   "source": [
    "**4.410**: It said \"mutiples of 11\", so I used the same formula for question 4.110; for 3 digit numbers, the formula would be $a, a+b, b$. so if $b$ = 2, then it would be $a, a+2, 2$. so I tried all the possibilities for $a$, which got me to $1, 2, 3, 4, 5, 6, 7, 8$, which is 8."
   ]
  },
  {
   "cell_type": "markdown",
   "id": "3eb9da8e",
   "metadata": {},
   "source": [
    "**4.510**: It says: what is the remainder of $1234567 ÷ 11$, and a formula mentioned in the book said that the sum of the alternating digits' difference is 0 or a multiple of 11, so $1+3+5+7 = 16$, and $2+4+6 = 12$. So the $7$ has to change to a $3$ in order to me divisible by $11$."
   ]
  },
  {
   "cell_type": "markdown",
   "id": "f1b8f8f6",
   "metadata": {},
   "source": [
    "**4.320**: it states that a number that is made of only $1, 2\\text{, and }3$'s is divisible by $8$ and $9$, so the number has to be even, because of the 8, and if it is divisible by 9, all the digits have to add up to 9. So the smallest digits that add up to 9 with at least one of each is $1$, $2,$ $3,$ and $3$. And for the 8; all the 3 digit numbers that only has $1$, $2$, and $3$ is 112, 232, and 312, so the only answer is $3312$."
   ]
  },
  {
   "cell_type": "markdown",
   "id": "14a0be1b",
   "metadata": {},
   "source": [
    "**4.620**: it says $ABC$, $CAB$, and $BCA$ are different digits and are all divisible by 6 and 9. I saw that 6 is equal to $2$ times $3$, so $A$, $B$, and $C$ are all even, so all of the digits have to add up to 18. So I looked for 3 different even intergers that added up to 18 and got $4$, $6$, and $8$. Then I matched each number with a letter and got $486$ + $648$ + $864$ = $1998$."
   ]
  },
  {
   "cell_type": "markdown",
   "id": "6d3d098a",
   "metadata": {},
   "source": [
    "**4.820**: $456,564,465,645$ ÷ $6$; I found that the first 3 digits with a bunch of 0's was divisible by 6; so are the next 3 and next 3. So I ended up with $645÷6$, and 600 is divisble by 6, so I'm left with $45÷6$, which has a remainder of $3$."
   ]
  },
  {
   "cell_type": "markdown",
   "id": "9669e512",
   "metadata": {},
   "source": [
    "**4.040**: It says that I have to find the all the factors of 72, 210, 180, and 112 when they give us the prime factorization. The book says: $a^b\\cdot c^d\\cdot x^y$, then the amount of factors is $b + 1\\cdot d+1 \\cdot y+1$.\n",
    "* $72$:  $2^3 \\cdot 3^2$, so the amount of factors is equal to $(3+1) \\cdot (2+1) = 4 \\cdot 3 = 12$\n",
    "* $210$:  $2^1 \\cdot 3^1 \\cdot 5^1 \\cdot 7^1$, so the amount of factors is equal to $(1+1) \\cdot (1+1)\\cdot(1+1)\\cdot (1+1) = 2^4 = 16$\n",
    "* $180$:  $2^2 \\cdot 3^2\\cdot 5^1$, so the amount of factors is equal to $3\\cdot 3\\cdot 2 = 18$\n",
    "* $112$:  $2^4\\cdot 7^1$, so the amount of factors is equal to $5\\cdot 2 = 10$"
   ]
  },
  {
   "cell_type": "markdown",
   "id": "f01d8e75",
   "metadata": {},
   "source": [
    "**4.140**: The smallest number with any factors it the amount of factors times 2; so the smallest number with 6 factors is $12$."
   ]
  },
  {
   "cell_type": "markdown",
   "id": "8e79eeeb",
   "metadata": {},
   "source": [
    "**4.440**: If a number has 3 factors, that means its a prime number's square; so $2^2,$ $3^2,$ $5^2,$ $7^2,$ $11^2,$ $13^2,$ $17^2,$ $19^2,$ $23^2,$ and $29^2$. Since $2^2$ is 4; $19^2$, $23^2$, and $29^2$ cannot be used. If it is $ab$, only $2^2$ and $3^2$ can be used as $a$. So I got (without the squares) $4 \\cdot 9$, $4 \\cdot 25$, $4 \\cdot 49$, $4 \\cdot 121$, $4 \\cdot 169$, $9 \\cdot 25$, and $9 \\cdot 49$. Which is a total of 7 products."
   ]
  },
  {
   "cell_type": "markdown",
   "id": "3e68a6e6",
   "metadata": {},
   "source": [
    "**4.640**: So there are five 2-digit intergers with 12 factors, so using the formula mentioned in the book you can so $a^1 \\cdot b^1 \\cdot c^2$, $a^2 \\cdot b^3$, or $a^5 \\cdot b^1$. So using all the one digit prime numbers; $2$, $3$, $5$, and $7$, I got:\n",
    "* $2^1\\cdot 3^2\\cdot 5^1$ = $90$\n",
    "* $2^2\\cdot 3^1\\cdot 5^1$ = $60$\n",
    "* $2^2\\cdot 3^1\\cdot 7^1$ = $84$\n",
    "* $2^4\\cdot 3^1$ = $96$\n",
    "* $2^3\\cdot 3^2$ = $72$\n",
    "\n",
    "So the five 2-digit numbers with 12 factors is $60$, $72$, $84$, $90$, and $96$."
   ]
  },
  {
   "cell_type": "markdown",
   "id": "a29995ca",
   "metadata": {},
   "source": []
  },
  {
   "cell_type": "markdown",
   "id": "4b30a9d6",
   "metadata": {},
   "source": []
  },
  {
   "cell_type": "markdown",
   "id": "2384655e",
   "metadata": {},
   "source": []
  },
  {
   "cell_type": "markdown",
   "id": "e00f2e54",
   "metadata": {},
   "source": []
  },
  {
   "cell_type": "markdown",
   "id": "35209fd0",
   "metadata": {},
   "source": []
  }
 ],
 "metadata": {
  "kernelspec": {
   "display_name": "Python 3 (ipykernel)",
   "language": "python",
   "name": "python3"
  },
  "language_info": {
   "codemirror_mode": {
    "name": "ipython",
    "version": 3
   },
   "file_extension": ".py",
   "mimetype": "text/x-python",
   "name": "python",
   "nbconvert_exporter": "python",
   "pygments_lexer": "ipython3",
   "version": "3.9.10"
  }
 },
 "nbformat": 4,
 "nbformat_minor": 5
}
