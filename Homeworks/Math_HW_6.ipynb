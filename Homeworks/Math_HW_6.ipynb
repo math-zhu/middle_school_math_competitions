{
 "cells": [
  {
   "cell_type": "markdown",
   "metadata": {},
   "source": [
    "## Homework\n",
    "\n",
    "**1.061**: So it askes us to find the first 1000 odd numbers, so there was 1000 numbers, and the first odd number is 1, and the 1000th odd number is 1999. So I added them together and divided them by 2: $\\frac{2000}{2}$ = 1000. Then I multiplied 1000 by the amount of numbers in this sequence, or 1000: $1000\\cdot 1000$ = $1000000$\n",
    "\n",
    "\n",
    "**1.161**: It says that the fifth term of a sequence if 18 and the 9th one is 24. And it askes us for the 99th term. So I found that the sequence is plus $\\frac{3}{2}$ because its $\\frac{24-18}{9-5}$ or $\\frac{3}{2}$. So the if you went from the 9th number all the way to the 99th number, it would be $24+90\\cdot \\frac{3}{2}$ = $159$.\n",
    "\n",
    "\n",
    "**1.261**: So for this problem, I first found the common difference between each of the 6 numbers. And I knew that the second number  would be the averge of the first three and the 5th one would be the averge of the last three. So it would be $\\frac{25/3 - 20/3}{5-2}$ because 25/3 is the 5th number and 20/3 is the second number. So I caculated that and got $\\frac{5}{9}$. So since the second number is $\\frac{5}{9}$ away from the first number, I just subtracted $\\frac{20}{3}$ by $\\frac{5}{9}$ and got $\\frac{55}{9}$ = $6\\frac{1}{9}$.\n",
    "\n",
    "**1.461**: So it askes how many geometric sequences there are if the first number is 1 and the last one 1024. So I know that $2^0$ is $1$ and $2^{10}$ is $1024$. So that means that there are $4$ because we can use $2^{10}$, $2^5$, $2^2$, and $2^1$.\n",
    "\n",
    "\n",
    "\n",
    "**1.761**: So it askes us to find $\\frac{1}{2^1}$ + $\\frac{1}{2^2}$ $\\cdots$ + $\\frac{1}{2^{10}}$. So I saw that $\\frac{1}{2^{10}}$ was last and I knew that the answer would just be $1-\\frac{1}{2^{10}}$, or $1-\\frac{1}{1024}$ or $\\frac{1023}{1024}$.\n",
    "\n",
    "\n",
    "**1.861**: So for this problem I saw that this sequence was a geometric sequence, it was multiplying by $\\frac{2}{5}$. And in the book it said that the formula would be $\\frac{a}{1-r}$. So the answer would be $\\frac{2/5}{1-2/5}$ = $\\frac{2}{3}$.\n",
    "\n",
    "\n"
   ]
  },
  {
   "cell_type": "markdown",
   "metadata": {},
   "source": []
  }
 ],
 "metadata": {
  "language_info": {
   "name": "python"
  }
 },
 "nbformat": 4,
 "nbformat_minor": 2
}
