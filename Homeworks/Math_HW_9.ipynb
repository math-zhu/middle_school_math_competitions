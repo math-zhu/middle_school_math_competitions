{
 "cells": [
  {
   "cell_type": "markdown",
   "metadata": {},
   "source": [
    "## Homework\n",
    "\n",
    "**2.051**： For this problem, I did $\\binom{9}{4}$ because (using the sticks and stones method) you have four stones and five sticks. So $\\binom{9}{4}$ = $126$ different ways.\n",
    "\n",
    "\n",
    "**2.151**：So since it says that there has to be at least one of each flower type, that means we just have to find the total combinations for the nine of the rest flowers. So I did $\\binom{11}{2}$ because we need to put two sticks for nine stones. So I got $55$.\n",
    "\n",
    "\n",
    "**2.161**： So since there are only ten points, there are ten stones, and there are three categories, so two sticks. So I did $\\binom{12}{2}$ = $66$ different ways. \n",
    "\n",
    "\n",
    "**2.261**： So since for this problem you can't really do one big combinatoric equation, you have to do it in separate groups. So I did for the $1$ bills, four stones with two sticks, or $\\binom{6}{2}$ = $15$. For the $5 bills, $\\binom{5}{2}$ = $10$. For the $20 bills, $\\binom{4}{2}$ = $6$. And for the hundred dollar bill, since there is only one = $3$ ways. So the final step is to multiply all of those numbers together and I got $15\\cdot 10\\cdot 6\\cdot 3$ = $2700$ different ways.\n",
    "\n",
    "\n",
    "**2.361**： For this problem, I saw that there were nine stones and we neededthree sticks. And since you can put the sticks at the very front or the very end, there are 8 spaces and 3 sticks. So $\\binom{8}{3}$ = $56$ ways. \n",
    "\n",
    "\n",
    "**2.171**： So since there are six heads, you can look at the sixth row of the Pascal's triangle. And since it has to be an odd number of heads, I looked at the $\\binom{6}{1}$, $\\binom{6}{3}$, and $\\binom{6}{5}$. So I added those numbers up and got $32$.\n",
    "\n",
    "\n",
    "**2.371**： For this problem, I just looked at the triangle and looked at the first three number's sum, and if those number's sum was 22, then that would be the answer. So I looked and found that $6$ was the answer because 1+5+15 = 22.\n",
    "\n",
    "\n",
    "**2.771**： For this problem, I noticed that each letter has two other letters right below it, like for example, the first \"O\" can be connected with the first and the second \"U\". So I did $2^4$ because every time you move down one there are two other ways to connect. So $2^4$ = $16$.\n",
    "\n",
    "\n",
    "**2.640**： So for this problem I can't really show you but I just drew them and I only got $5$.\n",
    "\n",
    "\n",
    "**2.840**： For this problem, I counted different types of triangles. I found all the rectangles (because a triangle is made up of half a rectangle) which was 200. So I got $200$.\n",
    "\n",
    "\n"
   ]
  },
  {
   "cell_type": "markdown",
   "metadata": {},
   "source": []
  }
 ],
 "metadata": {
  "language_info": {
   "name": "python"
  }
 },
 "nbformat": 4,
 "nbformat_minor": 2
}
