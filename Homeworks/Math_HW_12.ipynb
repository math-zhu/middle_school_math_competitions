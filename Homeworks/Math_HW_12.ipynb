{
 "cells": [
  {
   "cell_type": "markdown",
   "id": "dd48020b",
   "metadata": {},
   "source": [
    "**1.400**： For this problem, I first used distributive property and got $3x-12=8-2x$, which is equal to $5x-12=8$, = $5x=20$ so $x=4$.\n",
    "\n",
    "\n",
    "**1.600**： $\\frac{2}{3}x -5 = \\frac{6-x}{3}$, and if you multiply both sides by 3, you get $2x-15=6-x$, which is $3x=21$, so $x=7$.\n",
    "\n",
    "\n",
    "**1.900**： So one man would take three times as long as three people so one person would take 27 hours, and you still ahve to divide that by 4, and simpified you get 6.75 hours, or 6 hours and 45 min.\n",
    "\n",
    "\n",
    "**1.010**： Since 9 beavers can make one dam in 5 hours, then 3 beavers would make one dam in 15 hours, then 15 beavers would take 3 hours to make one dam, and to make two dams it would take them $6$ hours.\n",
    "\n",
    "\n",
    "**1.310**： If James is 33 today, then Molly would be 12 years old. And I tested random years and got $9$ years as my answer.\n",
    "\n",
    "\n",
    "**1.410**： So since they are consecutive, and they are even, then if $a$ is the smallest number, then the four numbers are $n,n+2, n+4, n+6$. And from that you can plug that in and get $n,n+2, n+4, n+6=3n$, then I simpified and got $4n+12=3n$, so $n$must be $-12$, so the sum is $3\\cdot -12$ = $-36$.\n",
    "\n",
    "\n",
    "**1.510**：So what I did was first $a$ = side 1, and $b$ = side 2. $a+b$ = $32/2$ = $16.$ And $3b=a$, so $a$ and $b$ have to be 4 and 12. So to find the area is $4\\cdot 12$ = $48cm^2$. \n",
    "\n",
    "\n",
    "**1.130**：Shannon has 18 coins (quarters and dimes) and a total of $2.40. $d$ = number of dimes and $q$ = number of quarters. $d+q=18$ and $10d+25q=240$. Then I multiplied 10 to the first equation and got $10d+10q=180$, then I subtracted the sencond equation with the new one, and got $15q=60$. So Shannon has $4$ quarters.\n",
    "\n",
    "\n",
    "**1.230**： So the current date is 2005, and say that $a$ is the first painting and $b$ is the second one. So I did $2005-a=2\\cdot(2005-b)$, and that $a=3b$. And then I found that $a=401$ years old.\n",
    "\n",
    "\n",
    "**1.330**： I first noticed that in all four equations, all the people all appear three times, so I added all those equations up and got $3a+3b+3c+3d=1020$, then you divide that by 3 and you get $340$ pounds. \n",
    "\n",
    "\n",
    "**1.530**： So you have three numbers, $a,b,c$. Now it says that $a+b=37$, $b+c=41,$ and $a+c=44$. Then I subtracted and got that the difference between $a$ and $c$ is 4. So if you plug that in with the last equation, you get $a=20$, $b=17$, and $c=24$. So you multiply those numbers together and you get $8160.$\n",
    "\n",
    "\n"
   ]
  },
  {
   "cell_type": "markdown",
   "id": "530c5aea",
   "metadata": {},
   "source": []
  }
 ],
 "metadata": {
  "language_info": {
   "name": "python"
  }
 },
 "nbformat": 4,
 "nbformat_minor": 5
}
