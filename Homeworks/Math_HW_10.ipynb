{
 "cells": [
  {
   "cell_type": "markdown",
   "metadata": {},
   "source": [
    "## Homework\n",
    "\n",
    "**3.200**: So since in a deck of cards, there are half red and half black cards, then the answer for this problem would just be $\\frac{1}{2} \\cdot \\frac{1}{2} \\cdot \\frac{1}{2}$ = $\\frac{1}{8}$.\n",
    "\n",
    "\n",
    "**3.700**: For this problem, since the ace of spades will affect the probability of the next card, you need to watch out. So found the probability for the ace of spades, which was $\\frac{12}{51 \\cdot 52}$, then if the first card was not from the spades suit, which was $\\frac{39}{51\\cdot 52}$. So I added them together, then simpified and got $\\frac{1}{52}$.\n",
    "\n",
    "\n",
    "**3.210**: So the probability for an odd number to be drawn out is $\\frac{5}{9}$, I just needed to cube that and got $\\frac{125}{729}$.\n",
    "\n",
    "\n",
    "**3.310**: So for the last three digits, the first one doesn't really matter. Its about the next two digits being the same as the first one. So the chance of it being the same is $\\frac{1}{10}$, and since there are two digits we need to decide, you just square that, and get $\\frac{1}{100}$.\n",
    "\n",
    "\n",
    "**3.810**: So in order for the product of two numbers to be postive, you would need the product of two postive numbers or the product of two negative numbers. So I found the probability of both postive and negative and added them up. \n",
    "* Positive: $\\frac{1}{2} \\cdot \\frac{1}{4}$ = $\\frac{1}{8}$\n",
    "* Negative: $\\frac{1}{2}\\cdot \\frac{1}{2}$ = $\\frac{1}{4}$\n",
    "\n",
    "$\\frac{1}{8}$+$\\frac{1}{4}$ = $\\frac{3}{8}$.\n",
    "\n",
    "\n",
    "**3.120**: So I first found all the ways you could choose two people, which was $\\binom{12}{2}$ = $66$ different ways. Then I found the amount of ways to choose a boy and a girl, which was seven for the boys and five for the girls, so $7\\cdot 5$ = $35$. So my final answer is $\\frac{35}{66}$.\n",
    "\n",
    "\n",
    "**3.420**: So there is a $\\frac{2}{5}$$%$ of raining and a $\\frac{3}{5}$ $%$ of not raining. So I did $(\\frac{2}{5}) ^3 \\cdot (\\frac{3}{5})^4$ = $\\frac{647}{78125}$, then I had to multiply that by $\\binom{7}{3}$, or the number of ways you can choose those raining days. Which was $\\frac{647}{78125}\\cdot 35$ which was about $29$$%$.\n",
    "\n",
    "\n",
    "**3.620**: So the total amount of ways for the dice to roll is $6^6$. And there are six ways to roll five of the same number, six ways to pick a number on the dice, and five numbers to choose for the odd number (the number that isn't the same as the rest). So I did $\\frac{6\\cdot 6\\cdot 5}{6^6}$ = $\\frac{5}{1296}$.\n",
    "\n",
    "\n",
    "**3.130**: So on a octogon, therer are eight vertices. So since we are choosing four of them, I did $\\binom{8}{4}$ = $70$ ways to make a quadrilateral. And I counted all the possible rectangles and got six possible ways. So my final answer was $\\frac{6}{70}$ or $\\frac{3}{35}$.\n",
    "\n",
    "\n",
    "**3.530**: For this problem, I found all the possible ways to paint the cube, which was $2^6$, or 64. And I counted that there was ten different ways to paint the cube so that no black sides were touching. So I got $\\frac{10}{64}$ or $\\frac{5}{32}$.\n",
    "\n",
    "\n",
    "**3.250**: So there are eight possible ways to flip three coins and there are six ways that there is at least one head and one tail. So I got $\\frac{6}{8}$ or $\\frac{3}{4}$.\n",
    "\n",
    "\n",
    "**3.550**: For this problem, I first caculated the probability that all three were the same color. So I did $\\frac{3}{9}\\cdot \\frac{2}{8} \\cdot \\frac{1}{7}$ = $\\frac{1}{84}$. Then you multiply that by three because of the three colors, and you get $\\frac{1}{28}$. Now my final step was to subtract that by one, and got $\\frac{27}{28}$.\n",
    "\n"
   ]
  },
  {
   "cell_type": "markdown",
   "metadata": {},
   "source": []
  }
 ],
 "metadata": {
  "language_info": {
   "name": "python"
  }
 },
 "nbformat": 4,
 "nbformat_minor": 2
}
