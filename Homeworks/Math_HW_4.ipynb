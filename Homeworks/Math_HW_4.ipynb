{
 "cells": [
  {
   "cell_type": "markdown",
   "metadata": {},
   "source": [
    "\n",
    "## Homework Solution on selected problems\n",
    "\n",
    "**4.271**：So it asks us to find the base 10 number of the following:\n",
    "\n",
    "* $215_6$: $2(36) + 1(6) + 5(1)$ = $72 + 6 + 5$ = $83$\n",
    "* $101_2$: $1(4) + 0(2) + 1(1)$ = $4 + 0 + 1$ = $5$\n",
    "* $777_8$: $7(64) + 7(8) + 7(1)$ = $448 + 56 + 7$ = $511$\n",
    "\n",
    "**4.371**：So I know that $6^3$ is 216, and that would be $1000_6$. And 1000 is not a three-digit number, so the biggest 3-digit number in base 10 is $215$.\n",
    "\n",
    "**4.471**：So I know that $3^5$ is $243$, and 242 is one less tha that, and I know that $3^5$ in base 3 is $10000_3$, so it takes $5$ digit.\n",
    "\n",
    "**4.571**：So I need to turn $222_8$ into base 4, so $222_8$ = $2(64) + 2(8) + 2(1)$ which can easily be turned into base 4, which is $2(4^3) + 1(4^2) + 2$ = $2102_4$\n",
    "\n",
    "\n",
    "**4.081**：$25_8\\cdot 10_8$ = $250_8$\n",
    "\n",
    "**4.381**：$333_6+333_6$ = $1110_6$\n",
    "\n",
    "**4.581**：$567_8-456_8$ = $111_8$\n",
    "\n",
    "**4.881**：$10000_2 - 1011_2$ = $101_2$\n",
    "\n",
    "**4.091**：So the book is asking us is $9089^2+765^2$ = $83195146$ or $83195140$. So I just took the units digit and did the multiplying and adding, $9^2$ has a units digit of $1$, $5^2$ has a units digit of $5$, and $1+5$ = a number with a units digit of 6, so its $83195146$.\n",
    "\n",
    "**4.191**：The units digit of $(346^2 + 364^2)^2$ is $6^2$ = 6, $4^2$ = $6$, $6+6$ = a units digit of $2$, and $2^2$ = a units digits of $4$.\n",
    "\n",
    "**4.291**：Given the $\\sqrt{4624}$ is a perfect square, then $\\sqrt{4624}$ 's last digit has to be either 2 or 8. And since $60^2$ = $3600$ & $70^3$ = $4900$, $\\sqrt{4624}$ is between 60 and 70. Now 62 is too small so it has to be $68$.\n",
    "\n",
    "**4.391**：So it asks us what is the units digit of $(1+2+3+4+5+\\cdots +29+30)^2$, so I first did $\\frac{(30\\cdot 31)}{2}$ to find the units digit of $(1+2+\\cdots +30)$ which is $15\\cdot 31$ which has a units digit of $5$, and squaring that will get you $5$."
   ]
  },
  {
   "cell_type": "markdown",
   "metadata": {},
   "source": []
  }
 ],
 "metadata": {
  "language_info": {
   "name": "python"
  }
 },
 "nbformat": 4,
 "nbformat_minor": 2
}
