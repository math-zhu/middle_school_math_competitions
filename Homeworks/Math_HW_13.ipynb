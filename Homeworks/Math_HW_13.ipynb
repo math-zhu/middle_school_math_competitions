{
 "cells": [
  {
   "cell_type": "markdown",
   "id": "0599ced2",
   "metadata": {},
   "source": [
    "**1.140**:  For this problem, I first made $c$ the amount of cherrys and $g$ the amount of grapes. So I know that $\\frac{c+1}{2g} = \\frac{3}{5},$ and $\\frac{c}{g} = \\frac{7}{6}$. So using the cross sum method I got $5c+5=6g$ and $6c=7g$. So I subtracted those equations and got $c$ is 5 greater than $g$, and then I found that $c$ = 35, so $g$ = 30. So at the end there were $65$ cherrys and grapes.\n",
    "\n",
    "\n",
    "**1.240**: So when you have 100 pounds of grapes, you have 92 pounds of water, so you have 8 pounds of the other stuff. So since only the water changes, and the other stuff is still 8 pounds, then then 8 pounds means 80% (or 1-20%) of the prunes. So the amount of water is $10$ pounds.\n",
    "\n",
    "\n",
    "**1.450**: So say $a$ is my age today and $f$ is the age of the father today. So $f \\div2-6 = a$, which equals to $f=2a+12$. And $(f+6)\\div 3+6=a+6$, which equals to $f= 3a-6$. So if you subtract, you find that $a=18$ and $f=48$. So you just have to do $48-18$ to get $30$ years old.\n",
    "\n",
    "\n",
    "**1.750**: So I first made $s$ = the amount of spiders and $b$ = the number of beetles. So since the label is \"legs than bugs\", I thought of it as spiders have 7 more legs than bugs and beetles have 5 more legs han bugs. And it gives us an additional information, which is that there are 18 more beetles than spiders. So I put all of that into one expression, which was $5(s+18) + 7s = 162$, then I substituted that and got $6$ spiders.\n",
    "\n",
    "\n",
    "**1.070**: For this question and the four questions, I just used distributive to solve. For this one, I got $3a-8+4a=7a-8$.   \n",
    "\n",
    "\n",
    "**1.270**: $3a-b-3b+4a = 7a-4b$.\n",
    "\n",
    "\n",
    "**1.370**: $(3a-4)(2a-3)=6a^2-9a-8a+12=6a^2-17a+12$\n",
    "\n",
    "\n",
    "**1.470**: $(8x-1)(x+3)=8x^2+24x-x-3= 8x^2 + 23x-3$\n",
    "\n",
    "\n",
    "**1.570**: $(8a-2b-3)(a+2b)=8a^2+16ab-2ab-4b^2-3a-6b= 8a^2 -3a+14ab-6b-4b^2$\n",
    "\n",
    "\n",
    "**1.180**: $(y-11)^2 = (y-11)(y-11) = y^2-22y+121$. [there is a rule that is $(a-b)^2=a^2-2ab+b^2$]\n",
    "\n",
    "\n",
    "**1.280**: $(2x-3)(2x+3)= 2x^2-3^2= 4x^2-9$ [there is a rule that is $(a+b)(a-b)=a^2-b^2$]\n",
    "\n",
    "\n",
    "**1.580**: $(a+2)(a+9)(a-2) = [(a+2)(a+9)](a-2) = (a^2+9a+2a+18)(a-2) = (a^2+11a+18)(a-2) = a^3 -2a^2+11a^2-22a+18a-36 = a^3+9a^2-4a-36$\n",
    "\n",
    "\n"
   ]
  },
  {
   "cell_type": "markdown",
   "id": "bb5838bf",
   "metadata": {},
   "source": []
  }
 ],
 "metadata": {
  "language_info": {
   "name": "python"
  }
 },
 "nbformat": 4,
 "nbformat_minor": 5
}
