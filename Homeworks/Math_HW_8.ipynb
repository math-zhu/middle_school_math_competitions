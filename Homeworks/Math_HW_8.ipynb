{
 "cells": [
  {
   "cell_type": "markdown",
   "metadata": {},
   "source": [
    "## Homework\n",
    "\n",
    "**2.580**: So for this problem, it would be a permutation, so I did $P(7,5)$, which is (using the ofrmula from the book) $\\frac{7!}{(7-5)!}$ = $\\frac{7!}{2!}$ = $3\\cdot 4\\cdot 5\\cdot 6\\cdot 7$ = $2520$ different ways to rank the people.\n",
    "\n",
    "\n",
    "**2.880**: So since in \"ICICLE\" there are a repeat of the \"I\" and the \"C\", I would need to divide $P(6,6)$ by 2, and 2 again, or divide by 4. So $P(a, a)$ = $a!$, then $P(6,6)$ = 6!, or $720$. The I have to divide that by 4, which got me to $180$.\n",
    "\n",
    "\n",
    "**2.201**: So if we put the \"T\" at the front of \"START\", then you have 4 places to put the other letters. So it would be $P(4,4)$ = $4!$ = $24$.\n",
    "\n",
    "\n",
    "**2.301**: So for this problem I knew that if I found all the possible combinations for \"BEGIN\" and just put the \"E\" or the \"I\" at the front, then I would just multiple that by 2 to get my answer. So I did $P(4,4)\\cdot 2$ = $4!\\cdot 2$ = $24\\cdot 2$ = $48$.\n",
    "\n",
    "\n",
    "**2.801**: So for this problem I found the amount of combinations for just the letter \"D\" to be at the beginning and at the end, which was $\\frac{5!}{2!\\cdot 2!}$ = $\\frac{120}{4}$ = $30$, but I still have to find all the combinations for \"E\" and \"R\" to be at the beginning and at the end, so I multiplied $30$ by $3$ and got $90$.\n",
    "\n",
    "\n",
    "**2.511**: So I saw that every triangle has to be made of one vertex from the tips and two other vertexs, so I found that for one of the vertex, there was a total of $50$ triangles, so I multiplied that by 2, and I got $100$ triangles.\n",
    "\n",
    "\n",
    "**2.711**: So if you choose three of the points from the 12 points you get a triangle, so there is $C\\binom{12}{3}$ which equals to 220. But if those 3 points form on the same line, then it would just be a line, not a triangle. So I saw the there was six lines for four dots, so I did $C\\binom{4}{3} \\cdot 6$, which got me to 24. So my final step was $220-24$ = $196$ triangles.\n",
    "\n",
    "\n",
    "**2.121**: For this problem, I did $C\\binom{7}{4}$, as in all the ways you can pick four spots from 7 spots, but then I noticed that one of those 35 combinations doesn't have cars next to each other, so I got 34 different ways. Then I multiplied that by 4! because there were that amount of ways you could assign those workers to those spots, so I got $34\\cdot 4!$ = $816$. \n",
    "\n",
    "\n",
    "**2.221**: So for this problem I did the total amount of ways the six kids could of stood together minus the amount of ways Alice and David could of stood together. So I did $6!$ (the total amount of ways) - $5! \\cdot 2$ (because Alice and David could of switched places). And that got me to $720-240$ = $480$ different ways.\n",
    "\n",
    "\n",
    "**2.721**: For this last problem I first found the total amount of ways to get from $A$ to $B$, which was $C\\binom{10}{6}$ (or $C\\binom{10}{4}$) = 210. But we still need to subtract all the ways that pass the point $X$. So I did all the ways you can get from point $A$ to point $X$ multiplied by all the ways you can get from point $X$ to point $B$. So I did $C\\binom{4}{2}\\cdot C\\binom{6}{2}$ = $6\\cdot 15$ = 90. So I did $220$ - $90$ which got me to $120$ ways.\n",
    "\n",
    "\n"
   ]
  },
  {
   "cell_type": "markdown",
   "metadata": {},
   "source": []
  }
 ],
 "metadata": {
  "language_info": {
   "name": "python"
  }
 },
 "nbformat": 4,
 "nbformat_minor": 2
}
