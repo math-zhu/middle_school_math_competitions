{
 "cells": [
  {
   "cell_type": "markdown",
   "metadata": {},
   "source": [
    "## Homework\n",
    "\n",
    "**2.600**: So for this problem, I first found all the amount of jeresy there were at the beginning. So I did the biggest value minus the smallest value and the plus one which was $30-10+1$=$21$, then since there were 3 left over jeresys, I just subtracted 3 from 21 and got $18$.\n",
    "\n",
    "\n",
    "**2.010**: So I first found all the perfect squares from 100 to 10000, and I got 91 because 100 = $10^2$ and 10000 = $100^2$, so I did 100 - 10 + 1 = 91. And I found the amount of even squares in those 91 squares, and since the first numerb of the sequence is even and the last number of the sequence is even, then there are a total of $46$ even perfect squaress from 100 to 10000. \n",
    "\n",
    "**2.310**: So I first found that from 1 to 100 there are 33 multiples of 3 (because 3 times 33 = 99) and I just needed to find the amount of numbers that were multiples of 3 and 5. So all the numbers that are multiples of 3 and 5 are multiples of 15 AND are less than 100. So I found that there are 6 different numbers that were multiples of 3 and 5 because 15 times 6 is 90, which is the biggest two digit number that is a multiple of 15. So I did 33 - 6 which was $27$.\n",
    "\n",
    "**2.220**: So I first found all the squares from 1 to 729, which was 27 because $27^2$ = 729. And then I found all the cubes from 1 to 729, which was 9 because $9^3$ = 729. But there are also numbers that are both squares and cubes, so I found that 1, 64, and 729 and squares and cubes, so I did 27 + 9 - 3 = $33$.\n",
    "\n",
    "**2.420**: So I drew a venn diagram (but with 3 circles) and I found that from 1 - 1000, there are 200 multiples of 5, 166 multiples of 6, and 142 multiples of 7. But adding those together will over count some numbers. So I found all the numbers from 1 to 1000 that were multiples of 5&6, 6&7, and 5&7, which were 33, 42, and 35. And the last part was all the numbers that were multiples of 5, 6, and 7, which was 4 numbers. So I added and subtracted all of those numbers and got 428.\n",
    "\n",
    "**2.620**: So I first added all the 18 Porsches, 25 black cars, and 16 convertibles together and got 59. Now since there are 50 cars, that means there is a overlap. So I added the 3, the 4, and the 5 together and got 12, then I subtracted 12 from 59 and got 47. Which means I need 3 more to get back to 50. So that means there are $3$ black convertible Porsches cars.\n",
    "\n",
    "**2.130**: So each singular team plays 15 games, so there are a total of $16\\cdot 15$, but it states that each team only plays another team only once, so I didved the $16\\cdot 15$ by 2, and got $120$.\n",
    "\n",
    "**2.430**: So for this problem, I saw that since a x-gon, a diagonal cannot be connected with 3 other points, itself, and the two points next to it. So each point can be connected to x-3 points. So for a 15-gon, I did 15-3, so each point on that shape can connect to 12 other points. So I did $15\\cdot 12÷2$ because the 15 $\\cdot$ 12 is the total amount be we will overlap, so you divide by 2. \n",
    "\n",
    "**2.340**: So for this problem, since there are only 10 spaces and you can only put 1 and 2 in it, then for each place you can put 2 numbers in it. So I did $2^10$ which got me to $1024.$\n",
    "\n",
    "\n",
    "**2.540**: So since there are 3 sizes for the pizzas, my equation for this problem is $3 \\cdot ?$. So to find the \"?\" I did $2^9$ because since there are 2 choices for 9 \"spots\". So I did $3\\cdot 2^9$ = $3\\cdot 512$ = $153$ choices.\n",
    "\n"
   ]
  }
 ],
 "metadata": {
  "language_info": {
   "name": "python"
  }
 },
 "nbformat": 4,
 "nbformat_minor": 2
}
