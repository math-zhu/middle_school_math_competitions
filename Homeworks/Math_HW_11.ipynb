{
 "cells": [
  {
   "cell_type": "markdown",
   "id": "dc22e4b6",
   "metadata": {},
   "source": [
    "## Homework\n",
    "\n",
    "**3.060**: For this problem since there is no replacement, I did $\\frac{10}{14}\\cdot \\frac{9}{13}\\cdot \\frac{8}{12}$ = $\\frac{30}{91}$.\n",
    "\n",
    "\n",
    "**3.560**: I first found the probability of choosing two cards of the same suit and another card a different suit: $\\frac{13}{52} \\cdot \\frac{12}{51} \\cdot \\frac{39}{50}$ which got me to $\\frac{39}{850}$. Then I had to multiply that by 3, because you have three ways of selecting the cards and the suits can be selected and multiply that by 4 because of the four different suits. So I got $\\frac{39}{850} \\cdot 3 \\cdot 4$ = $\\frac{234}{425}$.\n",
    "\n",
    "\n",
    "\n",
    "**3.660**: For this problem, I first found the denominator, which was since there are seven numbers in the group, and you are choosing three numbers from it, it would be $\\binom{7}{3}$ = $35$. Then I found that the lowest prime sum for choosing three numbers, which was 11 and the greatest prime sum, which was 19. So for all the prime numbers between 11 and 19, I found all the ways to add those seven numbers up, which got me to 12 ways you can add three of those numbers to make a prime. So I just put 12 and 35 together and got $\\frac{12}{35}$.\n",
    "\n",
    "\n",
    "**3.170**: So I first found the total area of that circle, which was $\\pi r^2$, and the big radius is 6, so if you plug that in you get a area of $\\pi 36$. Now for the shaded area, it would be $(\\pi 6^2 - \\pi 5^2) + (\\pi 4^2 - \\pi 3^2)$ = $\\pi 36 - \\pi 25 + \\pi 16 - \\pi 9$ = $\\pi 18$. Now I just put those two numbers together and got $\\frac{\\pi18}{\\pi 36}$ = $\\frac{1}{2}$ or $50%$.\n",
    "\n",
    "\n",
    "**3.270**: So for this problem, I thought of it as $h$AX:$h$CX = $h$ 2: $h$ 3. And the $h$ is whatever height it is because we have no idea what it is. So for that we can cross out the $h$'s and we just have to compair the other numbers. So I did $\\frac{2}{2+3}$ = $\\frac{2}{5}$.\n",
    "\n",
    "\n",
    "**3.080**: So if you guess randomly on all of the questions, you would get about 24 points. So I did $\\frac{24}{20}$ = $1.2$ points.\n",
    "\n",
    "\n",
    "**3.180**: I first added all of those numbers up, which was $\\$1912$. Then I had to divide that by 8 because we had eight types od dollars. So I got $1912 \\div 8$ = $\\$239$.\n",
    "\n",
    "\n",
    "**3.380**: For this problem, I used $a$ for the one dollar bills and $b$ for the five dollar bills. So The total bills is $a+b$ and the total money is $a+5b$. And we know the expected value, so that means $\\frac{a+5b}{a+b}$ = $1.2$. Which I found that $3.8b = 0.2a$. So then I found that there were $19$ one dollar bills and $1$ five dollar bill.\n",
    "\n",
    "\n",
    "                                                                                                            "
   ]
  },
  {
   "cell_type": "markdown",
   "id": "86a976c4",
   "metadata": {},
   "source": []
  }
 ],
 "metadata": {
  "language_info": {
   "name": "python"
  }
 },
 "nbformat": 4,
 "nbformat_minor": 5
}
