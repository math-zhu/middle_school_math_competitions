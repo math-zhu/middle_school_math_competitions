{
 "cells": [
  {
   "cell_type": "code",
   "execution_count": null,
   "metadata": {
    "vscode": {
     "languageId": "plaintext"
    }
   },
   "outputs": [],
   "source": [
    "## Homework Solution on selected problems\n",
    "\n",
    "\n",
    "**4.211**: So I can't really \"type\" a venn diagram so I will just find the GCF and the LCM of $28$, $42$, and $105$. So I first factorized $28$, $42$, and $105$:\n",
    "\n",
    "* $28$: $2^2\\cdot 7^1$\n",
    "* $42$: $2^1\\cdot 3^1\\cdot 7^1$\n",
    "* $105$: $3^1\\cdot 5^1\\cdot 7^1$\n",
    "\n",
    "And I found the GCF, and the only common factor was $7$, so the LCM is $7$. For the LCM, I first took the factorization above and found the biggest factorization. \n",
    "Which got me to $2^2\\cdot 3^1\\cdot 5^1\\cdot 7^1$ = $420$\n",
    "\n",
    "**4.411**: So it says that the GCF of two numbers is 18 and the LCM of those two numbers is 180. So the product of the GCF and the LCM should equal to the two number's \n",
    "product. And the problem gives us one of the numbers, or 90. So $18 \\cdot 180$ = $90\\cdot x$. Then $x$ = $36$.\n",
    "\n",
    "**4.021**: So the problem says what is the least amount of napkins you need to buy so that there are the same amount of napkins, plates, and cups. So pretty much they \n",
    "are asking us to find the LCM of $24$, $30$, and $100$. So I factorized those numbers and got:\n",
    "\n",
    "* $24$: $2^3\\cdot 3^1$\n",
    "* $30$: $2^1\\cdot 3^1\\cdot 5^1$\n",
    "* $100$: $2^2\\cdot 5^2$\n",
    "\n",
    "Then I got the biggest exponents and got: $2^3\\cdot 3^1\\cdot 5^2$ = $600$. So we need to buy $6$ packs of napkins.\n",
    "\n",
    "**4.321**: So it says that I have to find the least possible value for $LCM(a,b,c)$ when these are the conditions:\n",
    "\n",
    "* $GCF(a,b,c) = 1$\n",
    "* $GCF(a,b) = 3$\n",
    "* $GCF(b,c) = 4$\n",
    "* $GCF(a,c) = 5$ \n",
    "\n",
    "So the $LCM$ would just be the product of the $GCF$ of all the pairs, which would be $3\\cdot 4\\cdot 5$ = $60$.\n",
    "\n",
    "\n",
    "**4.421**: It says that we need to find the greatest number of cookies Kinsie can make that has all the toppings. So it means that we have to find the $GCF$ \n",
    "of $80, 112,$ and $128$ So I first factorized it:\n",
    "\n",
    "* $80$: $2^4\\cdot 5^1$\n",
    "* $112$: $2^4\\cdot 7^1$\n",
    "* $128$: $2^7$\n",
    "\n",
    "Then I found the smallest exponents and I got $2^4$ which is $16$.\n",
    "\n",
    "**4.331**: So it wants us to find the $LCM(6!,600)$, so I first found the factorization of $600$: $2^3\\cdot 3^1\\cdot 5^2$.\n",
    "And $6!$ = $6\\cdot 5\\cdot 4\\cdot 3\\cdot 2$, which is also $2^4\\cdot 3^2\\cdot 5^1$. So it you put those two factorizated equations, you get:\n",
    "\n",
    "$6!$ = $2^4\\cdot 3^2\\cdot 5^1$\n",
    "\n",
    "$600$ = $2^3\\cdot 3^1\\cdot 5^2$\n",
    "\n",
    "You get $2^3\\cdot 3^2\\cdot 5^2$ = $3600$ \n",
    "\n",
    "**4.431**: So it asks, what is the greatest prime factor of $100!$. So I just needed to find the biggest prime number between $1$ - $100$, which is $97$.\n",
    "\n",
    "\n",
    "**4.831**: So it askes for $n$ when $n!$ is a factor of $2^{15}$. So if you just count by 2's (with the powers of 2):\n",
    "$2$, $2^2$, $6$, $2^3$, $10$, $2^2\\cdot 3$, $14$, $2^4$. Now if you count all the 2's, you get 15 two's, so $n$ = $16$.\n",
    "\n",
    "**4.151**: So it says, what is the smallest prime factor of $1517$, so I first found $\\sqrt{1517}$ and the square of 39 is 1521, which is pretty close. Now we have to test all \n",
    "the prime numbers between 1 and 39. So I tested and found that $37$ was the smallest prime factor of $1517$.\n",
    "\n",
    "**4.951**: So I first found all the factors of $72$ that were multiples of $6$, which were 12, 18, 24, and 36. And it couldn't be 72 because then the $LCM$ would be the \n",
    "other number. So I tested pairs for all of those numbers and the only possible combination was 24 and 18. So I needed to find the sum of those two numbers; which was \n",
    "$18+24$ = $42$."
   ]
  },
  {
   "cell_type": "code",
   "execution_count": null,
   "metadata": {
    "vscode": {
     "languageId": "plaintext"
    }
   },
   "outputs": [],
   "source": []
  },
  {
   "cell_type": "code",
   "execution_count": null,
   "metadata": {
    "vscode": {
     "languageId": "plaintext"
    }
   },
   "outputs": [],
   "source": []
  }
 ],
 "metadata": {
  "language_info": {
   "name": "python"
  }
 },
 "nbformat": 4,
 "nbformat_minor": 2
}
